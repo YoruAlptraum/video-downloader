{
  "nbformat": 4,
  "nbformat_minor": 0,
  "metadata": {
    "colab": {
      "provenance": [],
      "authorship_tag": "ABX9TyO5lF5b1n0tpWS7Sla7Tm7j"
    },
    "kernelspec": {
      "name": "python3",
      "display_name": "Python 3"
    },
    "language_info": {
      "name": "python"
    }
  },
  "cells": [
    {
      "cell_type": "code",
      "source": [
        "!pip install yt-dlp\n",
        "!pip install firebase-admin"
      ],
      "metadata": {
        "id": "WDlSULHKfxDU",
        "collapsed": true
      },
      "execution_count": null,
      "outputs": []
    },
    {
      "cell_type": "code",
      "execution_count": null,
      "metadata": {
        "id": "P3cZteRJfLtK",
        "collapsed": true
      },
      "outputs": [],
      "source": [
        "from yt_dlp import YoutubeDL\n",
        "from datetime import date\n",
        "import json\n",
        "import os\n",
        "import re\n",
        "\n",
        "import firebase_admin\n",
        "from firebase_admin import credentials\n",
        "from firebase_admin import firestore\n",
        "\n",
        "from google.colab import userdata\n",
        "from google.colab import drive\n",
        "drive.mount('/content/drive')"
      ]
    },
    {
      "cell_type": "code",
      "source": [
        "# firebase/firestore\n",
        "\n",
        "# Uploaded service account key file\n",
        "cred = credentials.Certificate(userdata.get('FIREBASE_CERT_PATH'))\n",
        "\n",
        "# Initialize the Firebase Admin SDK if it hasn't been initialized yet\n",
        "if not firebase_admin._apps:\n",
        "    firebase_admin.initialize_app(cred)\n",
        "\n",
        "# Get a Firestore client\n",
        "db = firestore.client()\n",
        "\n",
        "print(\"Firebase Admin SDK initialized and Firestore client obtained!\")"
      ],
      "metadata": {
        "id": "5hyYAQAWE0mI",
        "collapsed": true
      },
      "execution_count": null,
      "outputs": []
    },
    {
      "cell_type": "code",
      "source": [
        "favorite_music_url = 'https://www.youtube.com/playlist?list=PL2E-fKOunybIoCAccVG2flYZSmltOymBa'\n",
        "playlist_url = 'https://www.youtube.com/playlist?list=PL2E-fKOunybLmPf--AqaUFZVVtrfIpNXi'\n",
        "col = db.collection('playlist')"
      ],
      "metadata": {
        "id": "j5wqTNoKbtC4"
      },
      "execution_count": null,
      "outputs": []
    },
    {
      "cell_type": "code",
      "source": [
        "def get_playlist_entries(playlist_url):\n",
        "    # get info on playlist\n",
        "    # ℹ️ See help(YoutubeDL) for a list of available options and public functions\n",
        "    ydl_opts = {'extract_flat': True}\n",
        "    with YoutubeDL(ydl_opts) as ydl:\n",
        "        info = ydl.extract_info(playlist_url, download=False)\n",
        "\n",
        "        # ℹ️ ydl.sanitize_info makes the info json-serializable\n",
        "        info = json.dumps(ydl.sanitize_info(info))\n",
        "\n",
        "    info_dict = json.loads(info)\n",
        "    entries = info_dict['entries']\n",
        "\n",
        "    return entries"
      ],
      "metadata": {
        "collapsed": true,
        "id": "mqM9HuK_gTpi"
      },
      "execution_count": null,
      "outputs": []
    },
    {
      "cell_type": "code",
      "source": [
        "def save_playlist_data():\n",
        "    playlist = get_playlist_entries(playlist_url)\n",
        "    favorites = get_playlist_entries(favorite_music_url)\n",
        "    favorites = set([i['id'] for i in favorites])\n",
        "    today = date.today().strftime(\"%d/%m/%Y\")\n",
        "\n",
        "    for video in playlist:\n",
        "        video_id = video['id']\n",
        "        # check if on favorites list\n",
        "        favorite = video_id in favorites\n",
        "\n",
        "        # check if already on list\n",
        "        doc = col.document(video_id).get()\n",
        "\n",
        "        if doc.exists:\n",
        "            # if on list check if video became unavailable\n",
        "            if video['duration'] == None:\n",
        "                col.document(video_id).update({'removedFromYT': today})\n",
        "                col.document(video_id).update({'lastUpdated': today})\n",
        "            else:\n",
        "                col.document(video_id).update({'lastUpdated': today})\n",
        "        else:\n",
        "            # skip if the video info cannot be salvaged\n",
        "            if video['duration'] == None:\n",
        "                continue\n",
        "\n",
        "            data = {\n",
        "                'videoId': video_id,\n",
        "                'title': video['title'],\n",
        "                'channel': video['channel'],\n",
        "                'favorite': favorite,\n",
        "\n",
        "                'addedToList': today,\n",
        "                'lastUpdated': today,\n",
        "\n",
        "                'removedFromYT': None,\n",
        "            }\n",
        "\n",
        "            # add to list\n",
        "            col.document(video_id).set(data)\n",
        "\n",
        "    return"
      ],
      "metadata": {
        "id": "Pi0ET2fcFwmg",
        "collapsed": true
      },
      "execution_count": null,
      "outputs": []
    },
    {
      "cell_type": "code",
      "source": [
        "save_playlist_data()"
      ],
      "metadata": {
        "id": "dnUuTaqcCHjQ",
        "collapsed": true
      },
      "execution_count": null,
      "outputs": []
    }
  ]
}